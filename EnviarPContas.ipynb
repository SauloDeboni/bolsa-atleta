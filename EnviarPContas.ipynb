{
 "cells": [
  {
   "cell_type": "code",
   "execution_count": 1,
   "id": "bc4b4325",
   "metadata": {},
   "outputs": [],
   "source": [
    "import os\n",
    "import base64\n",
    "import pandas as pd\n",
    "from sendgrid import SendGridAPIClient\n",
    "from sendgrid.helpers.mail import Mail, Attachment, FileContent, FileName, FileType, Disposition"
   ]
  },
  {
   "cell_type": "code",
   "execution_count": 4,
   "id": "1e6137af",
   "metadata": {},
   "outputs": [],
   "source": [
    "def EnviarPContas(path):\n",
    "    \n",
    "    # Importa o arquivo com os contatos e transforma em dataframe\n",
    "    lista_envio = pd.read_excel(path)\n",
    "    \n",
    "    for index in lista_envio.index:\n",
    "        \n",
    "        # Busca os dados do contato no dataframe\n",
    "        nome_completo = str(lista_envio[\"Nome Completo\"][index])\n",
    "        ano = str(lista_envio[\"Qual o ano de recebimento do Bolsa Atleta?\"][index])\n",
    "        email = str(lista_envio[\"E-Mail\"][index])\n",
    "        \n",
    "        # Gera o path e nome do arquivo para ser anexado\n",
    "        arquivo = ano + \" \" + nome_completo + \".pdf\"\n",
    "        arquivo_path = \"Z:/Documentos/Ministério do Esporte/Bolsa Atleta/Prestação de Contas/Prestação de Contas \" + ano + \"/\" + arquivo\n",
    "\n",
    "        message = Mail(\n",
    "            from_email=\"inscricoes@remobrasil.com\",\n",
    "            to_emails=email\n",
    "        )\n",
    "        \n",
    "        # Variaveis do Template SendGrid\n",
    "        message.dynamic_template_data = {\n",
    "            \"nome-completo\": nome_completo\n",
    "        }\n",
    "        \n",
    "        # ID do Template\n",
    "        message.template_id = \"d-05b5c69596134834b49cf68702d97396\"\n",
    "        \n",
    "        # Anexando o arquivo\n",
    "        with open(arquivo_path, \"rb\") as f:\n",
    "            data = f.read()\n",
    "            f.close()\n",
    "\n",
    "        encoded_file = base64.b64encode(data).decode()\n",
    "\n",
    "        attachedFile = Attachment(\n",
    "            FileContent(encoded_file),\n",
    "            FileName(arquivo),\n",
    "            FileType(\"application/pdf\"),\n",
    "            Disposition(\"attachment\")\n",
    "        )\n",
    "\n",
    "        message.attachment = attachedFile\n",
    "        \n",
    "        # Envio do email\n",
    "        try:\n",
    "            sg = SendGridAPIClient(os.environ.get('SENDGRID_API_KEY'))\n",
    "            response = sg.send(message)\n",
    "            print(\"Enviado para {}\" .format(email))\n",
    "        except Exception as e:\n",
    "            print(e.message)"
   ]
  },
  {
   "cell_type": "code",
   "execution_count": 5,
   "id": "19509a68",
   "metadata": {},
   "outputs": [
    {
     "name": "stdout",
     "output_type": "stream",
     "text": [
      "Enviado para david.fariadesouza@hotmail.com\n",
      "Enviado para Vitordelfior@gmail.com\n",
      "Enviado para xavier.velamaggi@olympian.org\n",
      "Enviado para chloedelazeri@hotmail.com\n",
      "Enviado para beatriiz.cavalcantii@hotmail.com\n",
      "Enviado para Davidsoncarlos22@icloud.com\n",
      "Enviado para i.falck@hotmail.com\n",
      "Enviado para Oliveiraandreluis28@gmail.com \n"
     ]
    }
   ],
   "source": [
    "EnviarPContas(\"Z:/Documentos/Ministério do Esporte/Bolsa Atleta/Prestação de Contas/Dados Tabulados/Prestação 2022/Prestacao-2022-06-02.xlsx\")"
   ]
  },
  {
   "cell_type": "code",
   "execution_count": null,
   "id": "ee124b4f",
   "metadata": {},
   "outputs": [],
   "source": []
  }
 ],
 "metadata": {
  "kernelspec": {
   "display_name": "Python 3 (ipykernel)",
   "language": "python",
   "name": "python3"
  },
  "language_info": {
   "codemirror_mode": {
    "name": "ipython",
    "version": 3
   },
   "file_extension": ".py",
   "mimetype": "text/x-python",
   "name": "python",
   "nbconvert_exporter": "python",
   "pygments_lexer": "ipython3",
   "version": "3.9.7"
  }
 },
 "nbformat": 4,
 "nbformat_minor": 5
}
